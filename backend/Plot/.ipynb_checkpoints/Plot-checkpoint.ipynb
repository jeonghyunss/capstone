{
 "cells": [
  {
   "cell_type": "code",
   "execution_count": 20,
   "metadata": {},
   "outputs": [],
   "source": [
    "import plotly\n",
    "import plotly.graph_objs as graph_objs\n",
    "\n",
    "import pandas as pd\n",
    "import numpy as np\n",
    "import json\n",
    "\n",
    "import os\n",
    "import sys\n",
    "\n",
    "# sys.path.append(os.path.dirname(os.path.abspath(os.path.dirname('__AccessDB.py__'))))\n",
    "sys.path.append(\"..\")\n",
    "\n",
    "from AccessDB.AccessDB import *\n",
    "\n",
    "# class Visualize:\n",
    "    \n",
    "#     # plot object getter\n",
    "#     # type : 어떤 그래프를 그려야 되는지\n",
    "#     # startDate : 시작 일자\n",
    "#     # endDate : 종료 일자\n",
    "#     def getPlot(self,type,startDate,endDate) :\n",
    "\n",
    "#     # table object getter\n",
    "#     def getTable(self,type,startDate,endDate) :\n",
    "        \n",
    "        \n",
    "# class Table :\n",
    "    \n",
    "#     def createTableData(self,startDate,endDate) : \n",
    "    \n",
    "\n",
    "# create plot object and return \n",
    "\n",
    "class Plot :\n",
    "    \n",
    "    def __init__(self) :\n",
    "        print(\"init Plot Instance\")\n",
    "    \n",
    "    # 1. 전력 사용량 패턴 분석 > 전력 사용량 분석 plot\n",
    "    def createBarLinePlot(self,startDate,endDate,payment,userIdx,period) : \n",
    "\n",
    "        connector = DBConnector()\n",
    "        \n",
    "        dataGetter = DataGetter(connector)\n",
    "        \n",
    "        data = dataGetter.selectData(startDate,endDate)\n",
    "        \n",
    "        # 일간 전력 사용량 분석\n",
    "        if period==0 :\n",
    "            print(\"0\")\n",
    "            \n",
    "        elif period==1 :\n",
    "            print(\"1\")\n",
    "            \n",
    "        else :\n",
    "            print(\"2\")\n",
    "        \n",
    "        return data\n",
    "\n",
    "#     # 2. 전력 사용량 패턴 분석 > 예측 전력 사용량 비교 plot\n",
    "#     def createCompareBarPlot(self,startDate,endDate) :\n",
    "    \n",
    "#     # 3. 전력 사용량 패턴 분석 > 입력변수 데이터 통계 plot\n",
    "#     def createLinePlot(self,startDate,endDate) :\n",
    "\n",
    "#     # 4. CCHP 스케줄링 > 전력 사용량 예측 Plot\n",
    "#     def createBarPlot(self,startDate,endDate) : \n",
    "\n",
    "#     # 5. CCHP 스케줄링 > CCHP 스케줄링 Plot\n",
    "#     def createDoubleBarPlot(self,startDate,endDate) : \n",
    "    \n",
    "#     # 6. CCHP 스케줄링 > CCHP 운영 시간표\n",
    "#     def createPiePlot(self,startDate,endDate) : \n",
    "    \n",
    "#     # 7. 경제성 분석 > 경제성 분석 : BarPlot, PieChart\n",
    "\n",
    "#     # 8. 경제성 분석 > 다른 요금제와 비교\n",
    "#     def createCompareLinePlot(self) :\n",
    "        "
   ]
  },
  {
   "cell_type": "code",
   "execution_count": 21,
   "metadata": {},
   "outputs": [
    {
     "ename": "TypeError",
     "evalue": "getDBConnection() takes 0 positional arguments but 1 was given",
     "output_type": "error",
     "traceback": [
      "\u001b[1;31m---------------------------------------------------------------------------\u001b[0m",
      "\u001b[1;31mTypeError\u001b[0m                                 Traceback (most recent call last)",
      "\u001b[1;32m<ipython-input-21-424c7e952228>\u001b[0m in \u001b[0;36m<module>\u001b[1;34m\u001b[0m\n\u001b[1;32m----> 1\u001b[1;33m \u001b[0mdata\u001b[0m \u001b[1;33m=\u001b[0m \u001b[0mPlot\u001b[0m\u001b[1;33m.\u001b[0m\u001b[0mcreateBarLinePlot\u001b[0m\u001b[1;33m(\u001b[0m\u001b[1;34m'2015-01-01'\u001b[0m\u001b[1;33m,\u001b[0m\u001b[1;34m'2015-01-02'\u001b[0m\u001b[1;33m,\u001b[0m\u001b[1;36m0\u001b[0m\u001b[1;33m,\u001b[0m\u001b[1;36m0\u001b[0m\u001b[1;33m,\u001b[0m\u001b[1;36m0\u001b[0m\u001b[1;33m,\u001b[0m\u001b[1;36m0\u001b[0m\u001b[1;33m)\u001b[0m\u001b[1;33m\u001b[0m\u001b[1;33m\u001b[0m\u001b[0m\n\u001b[0m",
      "\u001b[1;32m<ipython-input-20-55011b9138d4>\u001b[0m in \u001b[0;36mcreateBarLinePlot\u001b[1;34m(self, startDate, endDate, payment, userIdx, period)\u001b[0m\n\u001b[0;32m     45\u001b[0m         \u001b[0mdataGetter\u001b[0m \u001b[1;33m=\u001b[0m \u001b[0mDataGetter\u001b[0m\u001b[1;33m(\u001b[0m\u001b[0mconnector\u001b[0m\u001b[1;33m)\u001b[0m\u001b[1;33m\u001b[0m\u001b[1;33m\u001b[0m\u001b[0m\n\u001b[0;32m     46\u001b[0m \u001b[1;33m\u001b[0m\u001b[0m\n\u001b[1;32m---> 47\u001b[1;33m         \u001b[0mdata\u001b[0m \u001b[1;33m=\u001b[0m \u001b[0mdataGetter\u001b[0m\u001b[1;33m.\u001b[0m\u001b[0mselectData\u001b[0m\u001b[1;33m(\u001b[0m\u001b[0mstartDate\u001b[0m\u001b[1;33m,\u001b[0m\u001b[0mendDate\u001b[0m\u001b[1;33m)\u001b[0m\u001b[1;33m\u001b[0m\u001b[1;33m\u001b[0m\u001b[0m\n\u001b[0m\u001b[0;32m     48\u001b[0m \u001b[1;33m\u001b[0m\u001b[0m\n\u001b[0;32m     49\u001b[0m         \u001b[1;31m# 일간 전력 사용량 분석\u001b[0m\u001b[1;33m\u001b[0m\u001b[1;33m\u001b[0m\u001b[1;33m\u001b[0m\u001b[0m\n",
      "\u001b[1;32mC:\\capstone\\backend\\AccessDB\\AccessDB.py\u001b[0m in \u001b[0;36mselectData\u001b[1;34m(self, start, end)\u001b[0m\n\u001b[0;32m     47\u001b[0m     \u001b[1;32mdef\u001b[0m \u001b[0m__init__\u001b[0m\u001b[1;33m(\u001b[0m\u001b[0mself\u001b[0m\u001b[1;33m,\u001b[0m\u001b[0mconnector\u001b[0m\u001b[1;33m)\u001b[0m \u001b[1;33m:\u001b[0m\u001b[1;33m\u001b[0m\u001b[1;33m\u001b[0m\u001b[0m\n\u001b[0;32m     48\u001b[0m \u001b[1;33m\u001b[0m\u001b[0m\n\u001b[1;32m---> 49\u001b[1;33m         \u001b[0mself\u001b[0m\u001b[1;33m.\u001b[0m\u001b[0mconnector\u001b[0m \u001b[1;33m=\u001b[0m \u001b[0mconnector\u001b[0m\u001b[1;33m\u001b[0m\u001b[1;33m\u001b[0m\u001b[0m\n\u001b[0m\u001b[0;32m     50\u001b[0m \u001b[1;33m\u001b[0m\u001b[0m\n\u001b[0;32m     51\u001b[0m     \u001b[1;32mdef\u001b[0m \u001b[0mselectData\u001b[0m\u001b[1;33m(\u001b[0m\u001b[0mself\u001b[0m\u001b[1;33m,\u001b[0m\u001b[0mstart\u001b[0m\u001b[1;33m,\u001b[0m\u001b[0mend\u001b[0m\u001b[1;33m)\u001b[0m \u001b[1;33m:\u001b[0m\u001b[1;33m\u001b[0m\u001b[1;33m\u001b[0m\u001b[0m\n",
      "\u001b[1;31mTypeError\u001b[0m: getDBConnection() takes 0 positional arguments but 1 was given"
     ]
    }
   ],
   "source": [
    "data = Plot.createBarLinePlot('2015-01-01','2015-01-02',0,0,0,0)"
   ]
  },
  {
   "cell_type": "code",
   "execution_count": null,
   "metadata": {},
   "outputs": [],
   "source": [
    "connector = AccessDB\n",
    "connector.DBConnector()"
   ]
  },
  {
   "cell_type": "code",
   "execution_count": null,
   "metadata": {},
   "outputs": [],
   "source": [
    "dir()"
   ]
  },
  {
   "cell_type": "code",
   "execution_count": null,
   "metadata": {},
   "outputs": [],
   "source": [
    "connector = DBConnector()\n",
    "dataGetter = DataGetter(connector)"
   ]
  },
  {
   "cell_type": "code",
   "execution_count": 3,
   "metadata": {},
   "outputs": [
    {
     "ename": "NameError",
     "evalue": "name 'dataGetter' is not defined",
     "output_type": "error",
     "traceback": [
      "\u001b[1;31m---------------------------------------------------------------------------\u001b[0m",
      "\u001b[1;31mNameError\u001b[0m                                 Traceback (most recent call last)",
      "\u001b[1;32m<ipython-input-3-ac1b0323609f>\u001b[0m in \u001b[0;36m<module>\u001b[1;34m\u001b[0m\n\u001b[1;32m----> 1\u001b[1;33m \u001b[0mdataGetter\u001b[0m\u001b[1;33m.\u001b[0m\u001b[0mconnector\u001b[0m\u001b[1;33m\u001b[0m\u001b[1;33m\u001b[0m\u001b[0m\n\u001b[0m",
      "\u001b[1;31mNameError\u001b[0m: name 'dataGetter' is not defined"
     ]
    }
   ],
   "source": [
    "dataGetter.connector"
   ]
  },
  {
   "cell_type": "code",
   "execution_count": 14,
   "metadata": {},
   "outputs": [
    {
     "data": {
      "text/plain": [
       "<AccessDB.AccessDB.DBConnector at 0x1e1020d0358>"
      ]
     },
     "execution_count": 14,
     "metadata": {},
     "output_type": "execute_result"
    }
   ],
   "source": [
    "connector = DBConnector()\n",
    "connector"
   ]
  },
  {
   "cell_type": "code",
   "execution_count": 17,
   "metadata": {},
   "outputs": [
    {
     "data": {
      "text/plain": [
       "<bound method DBConnector.getDBConnection of <AccessDB.AccessDB.DBConnector object at 0x000001E1020D0358>>"
      ]
     },
     "execution_count": 17,
     "metadata": {},
     "output_type": "execute_result"
    }
   ],
   "source": [
    "conn = connector.getDBConnection\n",
    "conn"
   ]
  },
  {
   "cell_type": "code",
   "execution_count": 23,
   "metadata": {},
   "outputs": [
    {
     "ename": "TypeError",
     "evalue": "getDBConnection() takes 0 positional arguments but 1 was given",
     "output_type": "error",
     "traceback": [
      "\u001b[1;31m---------------------------------------------------------------------------\u001b[0m",
      "\u001b[1;31mTypeError\u001b[0m                                 Traceback (most recent call last)",
      "\u001b[1;32m<ipython-input-23-ed5da1e69679>\u001b[0m in \u001b[0;36m<module>\u001b[1;34m\u001b[0m\n\u001b[0;32m      1\u001b[0m \u001b[0mdataGetter\u001b[0m \u001b[1;33m=\u001b[0m \u001b[0mDataGetter\u001b[0m\u001b[1;33m(\u001b[0m\u001b[0mconnector\u001b[0m\u001b[1;33m)\u001b[0m\u001b[1;33m\u001b[0m\u001b[1;33m\u001b[0m\u001b[0m\n\u001b[1;32m----> 2\u001b[1;33m \u001b[0mdataGetter\u001b[0m\u001b[1;33m.\u001b[0m\u001b[0mselectData\u001b[0m\u001b[1;33m(\u001b[0m\u001b[1;34m'2015-01-01'\u001b[0m\u001b[1;33m,\u001b[0m\u001b[1;34m'2015-01-02'\u001b[0m\u001b[1;33m)\u001b[0m\u001b[1;33m\u001b[0m\u001b[1;33m\u001b[0m\u001b[0m\n\u001b[0m",
      "\u001b[1;32mC:\\capstone\\backend\\AccessDB\\AccessDB.py\u001b[0m in \u001b[0;36mselectData\u001b[1;34m(self, start, end)\u001b[0m\n\u001b[0;32m     47\u001b[0m     \u001b[1;32mdef\u001b[0m \u001b[0m__init__\u001b[0m\u001b[1;33m(\u001b[0m\u001b[0mself\u001b[0m\u001b[1;33m,\u001b[0m\u001b[0mconnector\u001b[0m\u001b[1;33m)\u001b[0m \u001b[1;33m:\u001b[0m\u001b[1;33m\u001b[0m\u001b[1;33m\u001b[0m\u001b[0m\n\u001b[0;32m     48\u001b[0m \u001b[1;33m\u001b[0m\u001b[0m\n\u001b[1;32m---> 49\u001b[1;33m         \u001b[0mself\u001b[0m\u001b[1;33m.\u001b[0m\u001b[0mconnector\u001b[0m \u001b[1;33m=\u001b[0m \u001b[0mconnector\u001b[0m\u001b[1;33m\u001b[0m\u001b[1;33m\u001b[0m\u001b[0m\n\u001b[0m\u001b[0;32m     50\u001b[0m \u001b[1;33m\u001b[0m\u001b[0m\n\u001b[0;32m     51\u001b[0m     \u001b[1;32mdef\u001b[0m \u001b[0mselectData\u001b[0m\u001b[1;33m(\u001b[0m\u001b[0mself\u001b[0m\u001b[1;33m,\u001b[0m\u001b[0mstart\u001b[0m\u001b[1;33m,\u001b[0m\u001b[0mend\u001b[0m\u001b[1;33m)\u001b[0m \u001b[1;33m:\u001b[0m\u001b[1;33m\u001b[0m\u001b[1;33m\u001b[0m\u001b[0m\n",
      "\u001b[1;31mTypeError\u001b[0m: getDBConnection() takes 0 positional arguments but 1 was given"
     ]
    }
   ],
   "source": [
    "dataGetter = DataGetter(connector)\n",
    "dataGetter.selectData('2015-01-01','2015-01-02')"
   ]
  },
  {
   "cell_type": "code",
   "execution_count": null,
   "metadata": {},
   "outputs": [],
   "source": []
  }
 ],
 "metadata": {
  "kernelspec": {
   "display_name": "Python 3",
   "language": "python",
   "name": "python3"
  },
  "language_info": {
   "codemirror_mode": {
    "name": "ipython",
    "version": 3
   },
   "file_extension": ".py",
   "mimetype": "text/x-python",
   "name": "python",
   "nbconvert_exporter": "python",
   "pygments_lexer": "ipython3",
   "version": "3.7.3"
  }
 },
 "nbformat": 4,
 "nbformat_minor": 2
}
